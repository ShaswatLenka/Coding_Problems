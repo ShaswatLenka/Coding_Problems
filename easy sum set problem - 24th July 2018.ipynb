{
 "cells": [
  {
   "cell_type": "markdown",
   "metadata": {},
   "source": [
    "https://www.hackerearth.com/challenge/competitive/july-circuits-18/algorithm/easy-sum-set-problem-7e6841ca/"
   ]
  },
  {
   "cell_type": "code",
   "execution_count": 27,
   "metadata": {},
   "outputs": [
    {
     "name": "stdout",
     "output_type": "stream",
     "text": [
      "2\n",
      "1 2\n",
      "3\n",
      "3 4 5\n",
      "2 3 "
     ]
    }
   ],
   "source": [
    "na = int(input())\n",
    "a = list(map(int, input().strip().split()))\n",
    "nc = int(input())\n",
    "c = list(map(int, input().strip().split())) \n",
    "\n",
    "#store the lists in sorted order\n",
    "a = sorted(a)\n",
    "c = sorted(c)\n",
    "\n",
    "#range of numbers that can be present in set B\n",
    "minb = c[0]-a[0]\n",
    "maxb = c[-1]-a[-1]\n",
    "\n",
    "d = {}\n",
    "\n",
    "for x in range(minb,maxb+1):\n",
    "    for y in range(len(a)):\n",
    "        if (x + a[y]) in c:\n",
    "            if x in d.keys():\n",
    "                d[x] += 1\n",
    "            else:\n",
    "                d[x] = 1\n",
    "        else:\n",
    "            break\n",
    "for x in d.keys():\n",
    "    if d[x] == len(a):\n",
    "        print(x, end=\" \")\n",
    "\n",
    "            \n",
    "    \n"
   ]
  }
 ],
 "metadata": {
  "kernelspec": {
   "display_name": "Python 3",
   "language": "python",
   "name": "python3"
  },
  "language_info": {
   "codemirror_mode": {
    "name": "ipython",
    "version": 3
   },
   "file_extension": ".py",
   "mimetype": "text/x-python",
   "name": "python",
   "nbconvert_exporter": "python",
   "pygments_lexer": "ipython3",
   "version": "3.6.5"
  }
 },
 "nbformat": 4,
 "nbformat_minor": 2
}
