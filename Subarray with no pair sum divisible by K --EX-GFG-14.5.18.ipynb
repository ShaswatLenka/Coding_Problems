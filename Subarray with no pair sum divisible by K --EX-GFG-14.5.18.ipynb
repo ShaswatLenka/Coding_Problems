{
 "cells": [
  {
   "cell_type": "markdown",
   "metadata": {},
   "source": [
    "# Subarray with no pair sum divisible by K\n",
    "\n",
    "### (based on sliding window technique)\n",
    "Given an array of N non-negative integers, task is to find the maximum size of a subarray such that the pairwise sum of the elements of this subarray is not divisible by a given integer, K. Also, print this subarray as well. If there are two or more subarrays which follow the above stated condition, then print the first one from the left.\n",
    "\n",
    "Prerequisite : Subset with no pair sum divisible by K\n",
    "\n",
    "Examples :\n",
    "\n",
    "Input : arr[] = [3, 7, 1, 9, 2]        \n",
    "        K = 3\n",
    "Output : 3\n",
    "         [3, 7, 1]\n",
    "3 + 7 = 10, 3 + 1 = 4, 7 + 1 = 8, all are \n",
    "not divisible by 3. \n",
    "It is not possible to get a subarray of size bigger\n",
    "than 3 with the above-mentioned property.\n",
    "[7, 1, 9] is also of the same size but [3, 7, 1] comes first.\n",
    "\n",
    "Input : arr[] = [2, 4, 4, 3]        \n",
    "        K = 4\n",
    "Output : 2\n",
    "         [2, 4]\n",
    "2 + 4 = 6 is not divisible by 4. \n",
    "It is not possible to get a subarray of size bigger \n",
    "than 2 with the above-mentioned property.\n",
    "[4, 3] is also of the same size but [2, 4] comes first."
   ]
  },
  {
   "cell_type": "code",
   "execution_count": null,
   "metadata": {},
   "outputs": [],
   "source": []
  }
 ],
 "metadata": {
  "kernelspec": {
   "display_name": "Python 3",
   "language": "python",
   "name": "python3"
  },
  "language_info": {
   "codemirror_mode": {
    "name": "ipython",
    "version": 3
   },
   "file_extension": ".py",
   "mimetype": "text/x-python",
   "name": "python",
   "nbconvert_exporter": "python",
   "pygments_lexer": "ipython3",
   "version": "3.6.4"
  }
 },
 "nbformat": 4,
 "nbformat_minor": 2
}
