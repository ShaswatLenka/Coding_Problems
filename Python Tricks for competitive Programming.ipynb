{
 "cells": [
  {
   "cell_type": "markdown",
   "metadata": {},
   "source": [
    "## The most_common function of the Counter Package.\n",
    "This is probably the most useful function I’ve ever used and its always at the back of my mind while writing any python code. This function analyses a list/string and helps to return the top n entities in the list/string according to their number of occurences in descending order where n is a number that is specified by the programmer. The individual entities are returned along with their number of occurences in a tuple which can easily be reffered/printed as and when required."
   ]
  },
  {
   "cell_type": "code",
   "execution_count": 1,
   "metadata": {},
   "outputs": [
    {
     "name": "stdout",
     "output_type": "stream",
     "text": [
      "[(4, 4), (1, 3), (3, 2)]\n"
     ]
    }
   ],
   "source": [
    "from collections import Counter\n",
    "arr = [1,1,1,2,3,4,4,4,5,3,4]\n",
    "counter = Counter(arr)\n",
    "top_three = counter.most_common(3)\n",
    "print(top_three)"
   ]
  },
  {
   "cell_type": "code",
   "execution_count": null,
   "metadata": {},
   "outputs": [],
   "source": []
  }
 ],
 "metadata": {
  "kernelspec": {
   "display_name": "Python 3",
   "language": "python",
   "name": "python3"
  },
  "language_info": {
   "codemirror_mode": {
    "name": "ipython",
    "version": 3
   },
   "file_extension": ".py",
   "mimetype": "text/x-python",
   "name": "python",
   "nbconvert_exporter": "python",
   "pygments_lexer": "ipython3",
   "version": "3.6.5"
  }
 },
 "nbformat": 4,
 "nbformat_minor": 2
}
