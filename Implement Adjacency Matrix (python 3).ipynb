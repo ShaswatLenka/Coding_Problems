{
 "cells": [
  {
   "cell_type": "markdown",
   "metadata": {},
   "source": [
    "# Implementing Adjacency matrix \n",
    "\n",
    "You have been given an undirected graph consisting of N nodes and M edges. This graph can consist of self-loops as well as multiple edges. In addition , you have also been given Q queries. For each query , you shall be given 2 integers A and B. You just need to find if there exists an edge between node A and node B. If yes, print \"YES\" (without quotes) else , print \"NO\"(without quotes).\n",
    "\n",
    "###### Input Format:\n",
    "\n",
    "The first line consist of 2 integers N and M denoting the number of nodes and edges respectively. Each of the next M lines consist of 2 integers A and B denoting an undirected edge between node A and B. The next line contains a single integer Q denoting the number of queries. The next Line contains 2 integers A and B denoting the details of the query.\n",
    "\n",
    "###### Output Format\n",
    "\n",
    "Print Q lines, the answer to each query on a new line."
   ]
  },
  {
   "cell_type": "code",
   "execution_count": 9,
   "metadata": {},
   "outputs": [
    {
     "name": "stdout",
     "output_type": "stream",
     "text": [
      "3 2\n",
      "0 1\n",
      "1 2\n",
      "2\n",
      "0 1\n",
      "YES\n",
      "0 0\n",
      "NO\n"
     ]
    }
   ],
   "source": [
    "#enter number of Nodes(N) and Edges(M) \n",
    "inp = list(map(int, input().strip().split()))\n",
    "N = inp[0]\n",
    "M = inp[1]\n",
    "adj_matrix = [[0 for x in range(N)] for y in range(N)]\n",
    "for x in range(M):\n",
    "    #edge relationship\n",
    "    edges = list(map(int, input().strip().split()))\n",
    "    adj_matrix[edges[0]][edges[1]] = 1\n",
    "#number of queries\n",
    "query = int(input())\n",
    "for x in range(query):\n",
    "    #query details\n",
    "    q = list(map(int, input().strip().split()))\n",
    "    if adj_matrix[q[0]][q[1]] == 1:\n",
    "        print(\"YES\")\n",
    "    else:\n",
    "        print(\"NO\")\n",
    "\n"
   ]
  },
  {
   "cell_type": "code",
   "execution_count": null,
   "metadata": {},
   "outputs": [],
   "source": []
  }
 ],
 "metadata": {
  "kernelspec": {
   "display_name": "Python 3",
   "language": "python",
   "name": "python3"
  },
  "language_info": {
   "codemirror_mode": {
    "name": "ipython",
    "version": 3
   },
   "file_extension": ".py",
   "mimetype": "text/x-python",
   "name": "python",
   "nbconvert_exporter": "python",
   "pygments_lexer": "ipython3",
   "version": "3.6.4"
  }
 },
 "nbformat": 4,
 "nbformat_minor": 2
}
