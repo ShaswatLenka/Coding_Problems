{
 "cells": [
  {
   "cell_type": "markdown",
   "metadata": {},
   "source": [
    "https://www.hackerearth.com/challenge/competitive/july-circuits-18/algorithm/special-shop-69904c91/"
   ]
  },
  {
   "cell_type": "code",
   "execution_count": 12,
   "metadata": {},
   "outputs": [
    {
     "name": "stdout",
     "output_type": "stream",
     "text": [
      "2\n",
      "5 1 2\n",
      "10 2 4\n",
      "17\n",
      "134\n"
     ]
    }
   ],
   "source": [
    "results = []\n",
    "def maxPriceCalc(n,q1,q2):\n",
    "    m = n\n",
    "    d = {}\n",
    "    for x in range(0,m+1):\n",
    "        price = x*x*q1 + n*n*q2\n",
    "        n -= 1\n",
    "        d[x] = price\n",
    "    results.append(d[min(d.keys(), key = (lambda k: d[k]))])\n",
    "    return\n",
    "t = int(input())\n",
    "for x in range(t):\n",
    "    q = list(map(int, input().strip().split()))\n",
    "    maxPriceCalc(q[0],q[1],q[2])\n",
    "    \n",
    "for x in range(t):\n",
    "    print(results[x])\n"
   ]
  },
  {
   "cell_type": "code",
   "execution_count": 13,
   "metadata": {},
   "outputs": [
    {
     "name": "stdout",
     "output_type": "stream",
     "text": [
      "14\n"
     ]
    }
   ],
   "source": [
    "d = {0: 14, 1: 17}\n",
    "print(d[0])"
   ]
  },
  {
   "cell_type": "code",
   "execution_count": null,
   "metadata": {},
   "outputs": [],
   "source": []
  }
 ],
 "metadata": {
  "kernelspec": {
   "display_name": "Python 3",
   "language": "python",
   "name": "python3"
  },
  "language_info": {
   "codemirror_mode": {
    "name": "ipython",
    "version": 3
   },
   "file_extension": ".py",
   "mimetype": "text/x-python",
   "name": "python",
   "nbconvert_exporter": "python",
   "pygments_lexer": "ipython3",
   "version": "3.6.5"
  }
 },
 "nbformat": 4,
 "nbformat_minor": 2
}
