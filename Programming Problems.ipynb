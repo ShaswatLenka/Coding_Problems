{
 "cells": [
  {
   "cell_type": "markdown",
   "metadata": {},
   "source": [
    "# Programming Problem \n",
    "\n",
    "## 1\n",
    "### very - easy\n",
    " **Write a program to reduce a fraction to its lowest terms.<br>\n",
    " Inputs : numerator and denominator<br>\n",
    " Output : reduced fraction**<br>\n",
    " \n"
   ]
  },
  {
   "cell_type": "code",
   "execution_count": 10,
   "metadata": {
    "scrolled": true
   },
   "outputs": [
    {
     "name": "stdout",
     "output_type": "stream",
     "text": [
      "Enter Numerator and Denominator\n",
      "100 25\n",
      "4 / 1\n"
     ]
    }
   ],
   "source": [
    "print(\"Enter Numerator and Denominator\")\n",
    "a = map(int, raw_input().split())\n",
    "\n",
    "nume = a[0]\n",
    "deno = a[1]\n",
    "\n",
    "if(nume>deno):\n",
    "    gcd = deno\n",
    "else:\n",
    "    gcd = nume\n",
    "\n",
    "if (nume == 0):\n",
    "    print \"0\"\n",
    "if (deno == 0):\n",
    "    print \"undefined\"\n",
    "\n",
    "while(gcd>1):\n",
    "    if (nume%gcd == 0 and deno%gcd == 0):\n",
    "        break\n",
    "    else: \n",
    "        gcd = gcd - 1\n",
    "print nume/gcd , \"/\" , deno/gcd\n",
    "\n"
   ]
  },
  {
   "cell_type": "markdown",
   "metadata": {
    "collapsed": true
   },
   "source": [
    "## 2. Monk and Welcome\n",
    "### level : very-easy\n",
    "https://www.hackerearth.com/practice/data-structures/arrays/1-d/practice-problems/algorithm/monk-and-welcome-problem/\n",
    "\n"
   ]
  },
  {
   "cell_type": "code",
   "execution_count": 9,
   "metadata": {},
   "outputs": [
    {
     "name": "stdout",
     "output_type": "stream",
     "text": [
      "1\n",
      "1 2 3\n",
      "1 2 3\n",
      "2\n"
     ]
    }
   ],
   "source": [
    "A = int(raw_input())\n",
    "C = map(int, raw_input().split())\n",
    "D = map(int, raw_input().split())\n",
    "E = []\n",
    "for i in range(0,A) :\n",
    "    E.append(C[i] + D[i])\n",
    "    \n",
    "print (\" \".join(map(str,E)))\n",
    "\n",
    "\n",
    "\n"
   ]
  },
  {
   "cell_type": "code",
   "execution_count": null,
   "metadata": {
    "collapsed": true
   },
   "outputs": [],
   "source": []
  }
 ],
 "metadata": {
  "kernelspec": {
   "display_name": "Python 2",
   "language": "python",
   "name": "python2"
  },
  "language_info": {
   "codemirror_mode": {
    "name": "ipython",
    "version": 2
   },
   "file_extension": ".py",
   "mimetype": "text/x-python",
   "name": "python",
   "nbconvert_exporter": "python",
   "pygments_lexer": "ipython2",
   "version": "2.7.14"
  }
 },
 "nbformat": 4,
 "nbformat_minor": 2
}
