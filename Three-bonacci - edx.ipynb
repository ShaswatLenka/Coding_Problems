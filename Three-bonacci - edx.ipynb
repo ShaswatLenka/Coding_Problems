{
 "cells": [
  {
   "cell_type": "code",
   "execution_count": 6,
   "metadata": {},
   "outputs": [
    {
     "name": "stdout",
     "output_type": "stream",
     "text": [
      "Hello\n",
      " world\n",
      "\n",
      "How\n",
      " are\n",
      " you\n",
      "\n",
      "What\n",
      " is\n",
      " your\n",
      " name\n",
      " \n",
      " \n",
      " help\n",
      "\n"
     ]
    }
   ],
   "source": [
    "inputs = open('inputs/input.txt', 'r')\n",
    "for line in inputs:\n",
    "    word_str = \"\"\n",
    "    line += \" \"\n",
    "    for word in line:\n",
    "        if(word != \" \"):\n",
    "            word_str += word\n",
    "        else:\n",
    "            print(word_str)\n",
    "            word_str = \" \"\n",
    "        \n",
    "\n"
   ]
  },
  {
   "cell_type": "code",
   "execution_count": null,
   "metadata": {},
   "outputs": [],
   "source": []
  }
 ],
 "metadata": {
  "kernelspec": {
   "display_name": "Python 3",
   "language": "python",
   "name": "python3"
  },
  "language_info": {
   "codemirror_mode": {
    "name": "ipython",
    "version": 3
   },
   "file_extension": ".py",
   "mimetype": "text/x-python",
   "name": "python",
   "nbconvert_exporter": "python",
   "pygments_lexer": "ipython3",
   "version": "3.6.5"
  }
 },
 "nbformat": 4,
 "nbformat_minor": 2
}
