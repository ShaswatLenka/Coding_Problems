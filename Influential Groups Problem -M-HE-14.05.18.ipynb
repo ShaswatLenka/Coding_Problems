{
 "cells": [
  {
   "cell_type": "markdown",
   "metadata": {},
   "source": [
    "# Influential Groups Problem -(Basics of Combinatorics)\n",
    "The village of Bellandur is unique. Each person here has a unique value attached to him. We call this values as Influential Value of that person. Influential Value is a positive integer that assigned to every integer denotes how influential that person is.\n",
    "\n",
    "Ram is a Mathematician who lives in Bellandur. Ram has a big ego problem. He could only have a conversation in those groups where his Influential Value is greater than half of the people in the group i.e. if the group size is S then the influential value of at-least floor(S/2)  people should be less than that of Ram. Note:  denotes the floor function.\n",
    "\n",
    "Ram has figured out the Influential Value of every person in Bellandur. He wants to determine how many groups exist where his ego doesn't get hurt. He is trying to find out such groups for different Influential powers. Ram doesn't like wasting time so he only considers those Influential Values that are present in Bellandur. Since the count of such groups could be very large he is considering values modulo 109+7.\n",
    "\n",
    "Input:\n",
    "\n",
    "First line contains N denoting the number of people living in Bellandur and Q that denotes the number of query Ram has. Second line contains N space-separated distinct integers that indicate the Influential value of every people living in Bellandur. Third line contains Q-space separated integers where each value denotes an Influential value for which Ram tries to find out the required groups.\n",
    "\n",
    "Output:\n",
    "\n",
    "Output Q integers that are the required count of groups for every query.\n",
    "\n",
    "Constraints:\n",
    "\n",
    "1 <= N <= 10^5\n",
    "\n",
    "1 <= Q <= N\n",
    "\n",
    "1 <= Influential Value <= 10^9\n",
    "\n",
    "Note:\n",
    "\n",
    "The query value will be from the input array itself and is necessary to include that value in the final groups for that query.\n",
    "\n",
    " \n",
    "\n",
    "SAMPLE INPUT \n",
    "\n",
    "    6 4\n",
    "    1 4 9 6 2 8\n",
    "    1 9 2 6\n",
    "SAMPLE OUTPUT \n",
    "\n",
    "    1\n",
    "    32\n",
    "    6\n",
    "    26"
   ]
  },
  {
   "cell_type": "code",
   "execution_count": null,
   "metadata": {},
   "outputs": [],
   "source": []
  }
 ],
 "metadata": {
  "kernelspec": {
   "display_name": "Python 3",
   "language": "python",
   "name": "python3"
  },
  "language_info": {
   "codemirror_mode": {
    "name": "ipython",
    "version": 3
   },
   "file_extension": ".py",
   "mimetype": "text/x-python",
   "name": "python",
   "nbconvert_exporter": "python",
   "pygments_lexer": "ipython3",
   "version": "3.6.4"
  }
 },
 "nbformat": 4,
 "nbformat_minor": 2
}
