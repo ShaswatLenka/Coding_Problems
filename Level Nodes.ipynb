{
 "cells": [
  {
   "cell_type": "markdown",
   "metadata": {},
   "source": [
    "# Level Nodes\n",
    "\n",
    "You have been given a Tree consisting of N nodes. A tree is a fully-connected graph consisting of N nodes and  edges. The nodes in this tree are indexed from 1 to N. Consider node indexed 1 to be the root node of this tree. The root node lies at level one in the tree. You shall be given the tree and a single integer x . You need to find out the number of nodes lying on level x.\n",
    "\n",
    "Input Format\n",
    "\n",
    "The first line consists of a single integer N denoting the number of nodes in the tree. Each of the next  lines consists of 2 integers a and b denoting an undirected edge between node a and node b. The next line consists of a single integer x.\n",
    "\n",
    "Output Format\n",
    "\n",
    "You need to print a single integers denoting the number of nodes on level x.\n",
    "\n",
    "Note\n",
    "\n",
    "It is guaranteed that atleast one node shall lie on level x"
   ]
  },
  {
   "cell_type": "code",
   "execution_count": null,
   "metadata": {},
   "outputs": [],
   "source": [
    "# #Number denoting the number of node in the tree\n",
    "# n = int(input().strip().split())\n",
    "# edge = dict\n",
    "# #"
   ]
  },
  {
   "cell_type": "code",
   "execution_count": 8,
   "metadata": {},
   "outputs": [
    {
     "name": "stdout",
     "output_type": "stream",
     "text": [
      "300\n",
      "900"
     ]
    }
   ],
   "source": [
    "def square_digits(num):\n",
    "    n = str(num)\n",
    "    for x in range(0,len(n)):\n",
    "         print(int(n[x])*int(n[x]), end='')\n",
    "inp = int(input())\n",
    "square_digits(inp)\n"
   ]
  },
  {
   "cell_type": "code",
   "execution_count": 2,
   "metadata": {},
   "outputs": [
    {
     "name": "stdout",
     "output_type": "stream",
     "text": [
      "3\n"
     ]
    }
   ],
   "source": [
    "n = str(300)\n",
    "print(n[0])\n"
   ]
  },
  {
   "cell_type": "code",
   "execution_count": null,
   "metadata": {},
   "outputs": [],
   "source": []
  }
 ],
 "metadata": {
  "kernelspec": {
   "display_name": "Python 3",
   "language": "python",
   "name": "python3"
  },
  "language_info": {
   "codemirror_mode": {
    "name": "ipython",
    "version": 3
   },
   "file_extension": ".py",
   "mimetype": "text/x-python",
   "name": "python",
   "nbconvert_exporter": "python",
   "pygments_lexer": "ipython3",
   "version": "3.6.4"
  }
 },
 "nbformat": 4,
 "nbformat_minor": 2
}
