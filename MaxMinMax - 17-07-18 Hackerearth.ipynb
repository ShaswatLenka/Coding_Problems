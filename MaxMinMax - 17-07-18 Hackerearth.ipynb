{
 "cells": [
  {
   "cell_type": "markdown",
   "metadata": {},
   "source": [
    "# MaxMinMax\n",
    "### https://www.hackerearth.com/problem/approximate/minmaxmin-2912716c/"
   ]
  },
  {
   "cell_type": "code",
   "execution_count": 9,
   "metadata": {},
   "outputs": [
    {
     "ename": "IndentationError",
     "evalue": "expected an indented block (<ipython-input-9-b63929bb5cbc>, line 28)",
     "output_type": "error",
     "traceback": [
      "\u001b[0;36m  File \u001b[0;32m\"<ipython-input-9-b63929bb5cbc>\"\u001b[0;36m, line \u001b[0;32m28\u001b[0m\n\u001b[0;31m    fillBucket(n)\u001b[0m\n\u001b[0m                 ^\u001b[0m\n\u001b[0;31mIndentationError\u001b[0m\u001b[0;31m:\u001b[0m expected an indented block\n"
     ]
    }
   ],
   "source": [
    "n = int(input())\n",
    "buckets = {}\n",
    "matrix = []\n",
    "#make buckets and store the vaues from 1 to n, n times\n",
    "def fillBucket(n):\n",
    "    for x in range(n):\n",
    "        for y in range(n):\n",
    "            if x in buckets.keys():\n",
    "                buckets[x].append(x+1)\n",
    "            else:\n",
    "                buckets[x] = [x+1]\n",
    "\n",
    "#find the rank of an array\n",
    "def rank(arr):\n",
    "    rank_dict = {}\n",
    "    for x in range(len(arr)):\n",
    "        if arr[x] in rank_dict.keys():\n",
    "            rank_dict[arr[x]] += 1\n",
    "        else:\n",
    "            rank_dict[arr[x]] = 1\n",
    "    rank = rank_dict[max(rank_dict, key = rank_dict.get)]\n",
    "    return rank\n",
    "\n",
    "    \n",
    "def prepare(arr,i):\n",
    "    prep_arr = []\n",
    "        for x in buckets.keys():\n",
    "            if len(prep_arr) != n:\n",
    "                if(len(buckets[x]) <= i):\n",
    "                    prep_arr.append(buckets[x])\n",
    "                    del buckets[x][:]\n",
    "                else:\n",
    "                    prep_arr.append(buckets[x][:i])\n",
    "                    del buckets[x][:i]\n",
    "            else:\n",
    "                break\n",
    "        \n",
    "    return prep_arr[0]\n",
    "            \n",
    "        \n",
    "    \n",
    "fillBucket(n)\n",
    "for x in range(n):\n",
    "    \n",
    "    \n",
    "\n",
    "\n"
   ]
  },
  {
   "cell_type": "code",
   "execution_count": 15,
   "metadata": {},
   "outputs": [
    {
     "name": "stdout",
     "output_type": "stream",
     "text": [
      "{0: [3], 1: [4, 5, 6]}\n"
     ]
    }
   ],
   "source": [
    "a = {0: [1,2,3], 1: [4,5,6]}\n",
    "n = 4\n",
    "def prepare(arr,i):\n",
    "    prep_arr = []\n",
    "        for x in buckets.keys():\n",
    "            if len(prep_arr) <= n:\n",
    "                if(len(buckets[x]) <= i && (n-len(prep_arr)) > i):\n",
    "                    prep_arr.append(buckets[x])\n",
    "                    del buckets[x][:]\n",
    "                else:\n",
    "                    prep_arr.append(buckets[x][:i])\n",
    "                    del buckets[x][:i]\n",
    "            else:\n",
    "                break\n",
    "        \n",
    "    return prep_arr[0]\n",
    "            \n",
    "arr = prepare(a[0],2)\n",
    "print(arr)"
   ]
  },
  {
   "cell_type": "code",
   "execution_count": 18,
   "metadata": {},
   "outputs": [
    {
     "name": "stdout",
     "output_type": "stream",
     "text": [
      "2\n",
      "1 2 \n",
      "1 2 \n"
     ]
    }
   ],
   "source": [
    "n=int(input())\n",
    "for i in range(n):\n",
    "    for j in range(n):\n",
    "        print(str(j+1)+\" \",end='')\n",
    "    print()"
   ]
  },
  {
   "cell_type": "code",
   "execution_count": null,
   "metadata": {},
   "outputs": [],
   "source": []
  }
 ],
 "metadata": {
  "kernelspec": {
   "display_name": "Python 3",
   "language": "python",
   "name": "python3"
  },
  "language_info": {
   "codemirror_mode": {
    "name": "ipython",
    "version": 3
   },
   "file_extension": ".py",
   "mimetype": "text/x-python",
   "name": "python",
   "nbconvert_exporter": "python",
   "pygments_lexer": "ipython3",
   "version": "3.6.5"
  }
 },
 "nbformat": 4,
 "nbformat_minor": 2
}
