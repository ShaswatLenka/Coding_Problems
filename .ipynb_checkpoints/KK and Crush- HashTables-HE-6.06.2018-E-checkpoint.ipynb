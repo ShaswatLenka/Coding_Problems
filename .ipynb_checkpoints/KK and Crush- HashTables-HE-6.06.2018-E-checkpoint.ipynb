{
 "cells": [
  {
   "cell_type": "markdown",
   "metadata": {},
   "source": [
    "# Problem based on Hash Tables\n",
    "\n",
    "KK has a crush on a girl in his class. In this valentines day he planned to propose her.\n",
    "\n",
    "KK's crush will accept his proposal if KK solves the following problem:-\n",
    "\n",
    "Given an array A of n numbers and k queries. In each query we have a number x .Now KK has to tell to whether number x exists in array or not.\n",
    "\n",
    "Can you help KK?\n",
    "\n",
    "*Input :- *\n",
    "\n",
    "First line contains number of test cases t.First line of each test case contains number of elements n in array A. Second line contains n elements of array of A.Third line contains k(number of queries). Following k lines contain a number x.\n",
    "\n",
    "*Output :- *\n",
    "\n",
    "For each query in a test case print \"Yes\" or \"No\" ( Quotes for clarity ).\n",
    "\n",
    "Constraints:-\n",
    "\n",
    "1<=t<=12 (t= Number of test cases in each input file).\n",
    "\n",
    "1<=n<=10^5 (n=number of elements in array).\n",
    "\n",
    "-10^5<=A[i]<=10^5 (A[i]=ith element of array).\n",
    "\n",
    "1<=k<=10^4 (k=number of queries).\n",
    "\n",
    "-10^5<=x<=10^5 (x=Number asked to search for in each query)."
   ]
  },
  {
   "cell_type": "code",
   "execution_count": 25,
   "metadata": {},
   "outputs": [
    {
     "name": "stdout",
     "output_type": "stream",
     "text": [
      "1\n",
      "5\n",
      "1 2 3 4 5\n",
      "5\n",
      "{1: 0, 2: 1, 3: 2, 4: 3, 5: 4}\n",
      "4\n",
      "4\n",
      "Yes\n",
      "2\n",
      "2\n",
      "Yes\n",
      "55\n",
      "55\n",
      "No\n",
      "0\n",
      "0\n",
      "No\n",
      "1\n",
      "1\n",
      "Yes\n"
     ]
    }
   ],
   "source": [
    "t = int(input())\n",
    "for x in range(t):\n",
    "    n = input()\n",
    "    arr = list(map(int, input().strip().split()))\n",
    "    k = int(input())\n",
    "    d = {l: v for v, l in enumerate(arr)}\n",
    "    for x in range(k):\n",
    "        q = int(input())\n",
    "        if q in d:\n",
    "            print(\"Yes\")\n",
    "        else:\n",
    "            print(\"No\")\n",
    "\n",
    "        \n",
    "        \n",
    "    "
   ]
  },
  {
   "cell_type": "code",
   "execution_count": null,
   "metadata": {},
   "outputs": [],
   "source": []
  }
 ],
 "metadata": {
  "kernelspec": {
   "display_name": "Python 3",
   "language": "python",
   "name": "python3"
  },
  "language_info": {
   "codemirror_mode": {
    "name": "ipython",
    "version": 3
   },
   "file_extension": ".py",
   "mimetype": "text/x-python",
   "name": "python",
   "nbconvert_exporter": "python",
   "pygments_lexer": "ipython3",
   "version": "3.6.4"
  }
 },
 "nbformat": 4,
 "nbformat_minor": 2
}
