{
 "cells": [
  {
   "cell_type": "code",
   "execution_count": 1,
   "metadata": {},
   "outputs": [
    {
     "name": "stdout",
     "output_type": "stream",
     "text": [
      "{'a': 1, 'b': 2, 'c': 3}\n"
     ]
    }
   ],
   "source": [
    "d = {}\n",
    "d['a'] = 1\n",
    "d['b'] = 2\n",
    "d['c'] = 3\n",
    "\n",
    "print(d)"
   ]
  },
  {
   "cell_type": "code",
   "execution_count": 2,
   "metadata": {
    "scrolled": true
   },
   "outputs": [
    {
     "name": "stdout",
     "output_type": "stream",
     "text": [
      "key:a ; Value: 1\n",
      "key:b ; Value: 2\n",
      "key:c ; Value: 3\n"
     ]
    }
   ],
   "source": [
    "for key in d:\n",
    "    print('key:{0} ; Value: {1}'.format(key,d[key]))"
   ]
  },
  {
   "cell_type": "code",
   "execution_count": 2,
   "metadata": {},
   "outputs": [
    {
     "name": "stdout",
     "output_type": "stream",
     "text": [
      "2 7\n",
      "4 15\n",
      "3 16\n",
      "9 5\n",
      "10 10\n",
      "8 10\n",
      "1 11\n",
      "5 9\n",
      "6 14\n",
      "7 3\n"
     ]
    }
   ],
   "source": [
    "#How to count number of appearances\n",
    "from collections import defaultdict\n",
    "from random import randint\n",
    "v = [randint(1,10) for i in range(100)]\n",
    "d = defaultdict(int)\n",
    "for x in v:\n",
    "    d[x] += 1\n",
    "for key in d:\n",
    "    print(key, d[key])"
   ]
  },
  {
   "cell_type": "code",
   "execution_count": null,
   "metadata": {},
   "outputs": [],
   "source": [
    "#Program for \"sweets all around\"\n",
    "def Sort(x):\n",
    "    for x in range(A):\n",
    "        for y in range(A):\n",
    "            if(storage[x][1] <= storage[y][1]):\n",
    "                temp = storage[x]\n",
    "                storage[x] = storahe[y]\n",
    "                storage[y] = temp\n",
    "    print (storage)\n",
    "    \n",
    "A = int(input())\n",
    "max_happy = A\n",
    "storage = []\n",
    "for x in range(A):\n",
    "    C = list(map(int, input().split()))\n",
    "    storage.append(C)\n",
    "for x in range(A):\n",
    "    for y in range (A):\n",
    "        if(storage[x][0] < storage[y][1]):\n",
    "            max_happy -= 1\n",
    "        elif (storage[x][0] < storage[y][0]):\n",
    "            max_happy -= 1\n",
    "    storage[x][1] = max_happy + 1 #plus one for the same student being happy\n",
    "    max_happy = A\n",
    "temp = 0\n",
    "Sort(storage)            \n",
    "\n",
    "\n",
    "                \n",
    "\n",
    "\n",
    "    "
   ]
  },
  {
   "cell_type": "code",
   "execution_count": null,
   "metadata": {},
   "outputs": [],
   "source": []
  }
 ],
 "metadata": {
  "kernelspec": {
   "display_name": "Python 3",
   "language": "python",
   "name": "python3"
  },
  "language_info": {
   "codemirror_mode": {
    "name": "ipython",
    "version": 3
   },
   "file_extension": ".py",
   "mimetype": "text/x-python",
   "name": "python",
   "nbconvert_exporter": "python",
   "pygments_lexer": "ipython3",
   "version": "3.6.4"
  }
 },
 "nbformat": 4,
 "nbformat_minor": 2
}
