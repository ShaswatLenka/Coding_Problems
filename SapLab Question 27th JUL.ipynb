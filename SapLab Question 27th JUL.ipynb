{
 "cells": [
  {
   "cell_type": "markdown",
   "metadata": {},
   "source": [
    "https://practice.geeksforgeeks.org/problems/maximize-arrii-of-an-array/0"
   ]
  },
  {
   "cell_type": "code",
   "execution_count": 1,
   "metadata": {},
   "outputs": [
    {
     "name": "stdout",
     "output_type": "stream",
     "text": [
      "2\n",
      "5\n",
      "5 3 2 4 1\n",
      "3\n",
      "1 2 3\n",
      "40\n",
      "8\n"
     ]
    }
   ],
   "source": [
    "#code\n",
    "t = int(input())\n",
    "resultarr = []\n",
    "\n",
    "def Calculate(arr):\n",
    "    sum = 0\n",
    "    for x in range(len(arr)):\n",
    "        sum += arr[x]*x\n",
    "    resultarr.append(sum)\n",
    "    \n",
    "for x in range(t):\n",
    "    n = int(input())\n",
    "    arr = list(map(int, input().strip().split()))\n",
    "    Calculate(sorted(arr))\n",
    "for x in range(t):\n",
    "    print(resultarr[x])\n",
    "    \n"
   ]
  },
  {
   "cell_type": "code",
   "execution_count": null,
   "metadata": {},
   "outputs": [],
   "source": []
  }
 ],
 "metadata": {
  "kernelspec": {
   "display_name": "Python 3",
   "language": "python",
   "name": "python3"
  },
  "language_info": {
   "codemirror_mode": {
    "name": "ipython",
    "version": 3
   },
   "file_extension": ".py",
   "mimetype": "text/x-python",
   "name": "python",
   "nbconvert_exporter": "python",
   "pygments_lexer": "ipython3",
   "version": "3.6.5"
  }
 },
 "nbformat": 4,
 "nbformat_minor": 2
}
