{
 "cells": [
  {
   "cell_type": "code",
   "execution_count": 41,
   "metadata": {},
   "outputs": [
    {
     "name": "stdout",
     "output_type": "stream",
     "text": [
      "4\n",
      "1 2 3\n",
      "16 6 6\n",
      "4 4 4\n",
      "2 4 4 \n",
      "Raj\n",
      "Rahul\n",
      "Raj\n",
      "Raj\n"
     ]
    }
   ],
   "source": [
    "import math\n",
    "A = input()\n",
    "B = []\n",
    "for x in range(A):\n",
    "    C = map(int, raw_input().split())\n",
    "    B.append(C);\n",
    "    \n",
    "for x in range(A):\n",
    "        H = B[x][0]\n",
    "        X = B[x][1]\n",
    "        Z = B[x][2]\n",
    "        res = X - ((Z/4.0)*(math.sqrt(H)))\n",
    "        if res == 0.0:\n",
    "             print (\"Rahul\")\n",
    "        else:\n",
    "             print(\"Raj\")\n",
    "       \n",
    "    "
   ]
  },
  {
   "cell_type": "code",
   "execution_count": 34,
   "metadata": {},
   "outputs": [
    {
     "data": {
      "text/plain": [
       "2"
      ]
     },
     "execution_count": 34,
     "metadata": {},
     "output_type": "execute_result"
    }
   ],
   "source": [
    "b = [[1,2,3],[4,5],[6,7]]\n",
    "b[0][1]"
   ]
  },
  {
   "cell_type": "code",
   "execution_count": null,
   "metadata": {},
   "outputs": [],
   "source": []
  }
 ],
 "metadata": {
  "kernelspec": {
   "display_name": "Python 2",
   "language": "python",
   "name": "python2"
  },
  "language_info": {
   "codemirror_mode": {
    "name": "ipython",
    "version": 2
   },
   "file_extension": ".py",
   "mimetype": "text/x-python",
   "name": "python",
   "nbconvert_exporter": "python",
   "pygments_lexer": "ipython2",
   "version": "2.7.14"
  }
 },
 "nbformat": 4,
 "nbformat_minor": 2
}
