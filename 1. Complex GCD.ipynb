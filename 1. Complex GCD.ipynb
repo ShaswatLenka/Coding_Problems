{
 "cells": [
  {
   "cell_type": "markdown",
   "metadata": {},
   "source": [
    "# Complex GCD Hackerearth coding challenge\n",
    "\n",
    "### link : https://www.hackerearth.com/problem/algorithm/complex-gcd-45ce782d/"
   ]
  },
  {
   "cell_type": "code",
   "execution_count": 24,
   "metadata": {
    "scrolled": true
   },
   "outputs": [
    {
     "name": "stdout",
     "output_type": "stream",
     "text": [
      "4\n",
      "3 2 2 4\n",
      "6 3 2 2\n",
      "[(1, 2), (1, 3), (2, 3)] [(2, 3)]\n",
      "4\n"
     ]
    }
   ],
   "source": [
    "N = int(input())\n",
    "A = list(map(int, input().strip().split()))\n",
    "B = list(map(int, input().strip().split()))\n",
    "\n",
    "\n",
    "\n",
    "#compute gcd\n",
    "def gcd(x, y):\n",
    "\n",
    "# choose the smaller number O(n)\n",
    "    \n",
    "    if x > y:\n",
    "        smaller = y\n",
    "    else:\n",
    "        smaller = x\n",
    "    for i in range(1, smaller+1):\n",
    "        if((x % i == 0) and (y % i == 0)):\n",
    "            gcd = i\n",
    "            \n",
    "    return gcd\n",
    "    \n",
    "def maxkey(d):\n",
    "    for key in d:\n",
    "        max = int(key)\n",
    "        break\n",
    "    \n",
    "    for x in d.keys():\n",
    "        n = int(x)\n",
    "        if(n >= max):\n",
    "            max = n\n",
    "    return max\n",
    "\n",
    "d_A = {}\n",
    "d_B = {}\n",
    "\n",
    "for x in range(1,N):\n",
    "    for y in range(x+1,N):\n",
    "        key = gcd(A[x],A[y])\n",
    "        if key in d_A.keys():\n",
    "            d_A[key].append((x,y))\n",
    "        else:\n",
    "            d_A[key] = [(x,y)]\n",
    "            \n",
    "for x in range(1,N):\n",
    "    for y in range(x+1,N):\n",
    "        key = gcd(B[x],B[y])\n",
    "        if key in d_B.keys():\n",
    "            d_B[key].append((x,y))\n",
    "        else:\n",
    "            d_B[key] = [(x,y)]\n",
    "\n",
    "max_A = maxkey(d_A) \n",
    "max_B = maxkey(d_B)\n",
    "maxgcd = max_A + max_B\n",
    "print(d_A[max_A], d_B[max_B])\n",
    "print(maxgcd)\n",
    "\n",
    "        \n",
    "        "
   ]
  }
 ],
 "metadata": {
  "kernelspec": {
   "display_name": "Python 3",
   "language": "python",
   "name": "python3"
  },
  "language_info": {
   "codemirror_mode": {
    "name": "ipython",
    "version": 3
   },
   "file_extension": ".py",
   "mimetype": "text/x-python",
   "name": "python",
   "nbconvert_exporter": "python",
   "pygments_lexer": "ipython3",
   "version": "3.6.5"
  }
 },
 "nbformat": 4,
 "nbformat_minor": 2
}
