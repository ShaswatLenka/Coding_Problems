{
 "cells": [
  {
   "cell_type": "markdown",
   "metadata": {},
   "source": [
    "## To sort a dictionary based on the key value"
   ]
  },
  {
   "cell_type": "code",
   "execution_count": 4,
   "metadata": {},
   "outputs": [
    {
     "name": "stdout",
     "output_type": "stream",
     "text": [
      "[(1, [44, 3, 4, 66, 7, 33]), (2, [32, 2, 4, 66]), (3, [2, 3, 44, 3, 11]), (4, [1, 2, 3, 4])]\n",
      "[(4, [1, 2, 3, 4]), (3, [2, 3, 44, 3, 11]), (2, [32, 2, 4, 66]), (1, [44, 3, 4, 66, 7, 33])]\n"
     ]
    }
   ],
   "source": [
    "d = {4:[1,2,3,4], 1:[44,3,4,66,7,33], 2:[32,2,4,66],3:[2,3,44,3,11]}\n",
    "#ascending order\n",
    "sorted_d = sorted(d.items(), key = lambda s: s[0])\n",
    "print(sorted_d)\n",
    "#decending order\n",
    "sorted_d1 = sorted(d.items(), key = lambda a: a[1])\n",
    "print(sorted_d1)\n",
    "\n",
    "#"
   ]
  },
  {
   "cell_type": "code",
   "execution_count": null,
   "metadata": {},
   "outputs": [],
   "source": []
  }
 ],
 "metadata": {
  "kernelspec": {
   "display_name": "Python 3",
   "language": "python",
   "name": "python3"
  },
  "language_info": {
   "codemirror_mode": {
    "name": "ipython",
    "version": 3
   },
   "file_extension": ".py",
   "mimetype": "text/x-python",
   "name": "python",
   "nbconvert_exporter": "python",
   "pygments_lexer": "ipython3",
   "version": "3.6.5"
  }
 },
 "nbformat": 4,
 "nbformat_minor": 2
}
