{
 "cells": [
  {
   "cell_type": "markdown",
   "metadata": {},
   "source": [
    "# Picu Bank\n",
    "https://www.hackerearth.com/challenge/competitive/august-circuits-18/algorithm/picu-bank-09e29493/"
   ]
  },
  {
   "cell_type": "code",
   "execution_count": 15,
   "metadata": {},
   "outputs": [
    {
     "name": "stdout",
     "output_type": "stream",
     "text": [
      "1\n",
      "2 5 4 3 46\n",
      "10\n"
     ]
    }
   ],
   "source": [
    "import math\n",
    "t = int(input())\n",
    "for x in range(t):\n",
    "    inp = list(map(int, input().strip().split()))\n",
    "    d = inp[0]\n",
    "    a = inp[1]\n",
    "    m = inp[2]\n",
    "    b = inp[3]\n",
    "    X = inp[4]\n",
    "    diff = X - d \n",
    "    divisor = (m*a)+b\n",
    "    q = math.floor(diff/divisor)\n",
    "    res = q*(m+1)\n",
    "    ctr = 0\n",
    "    num = q*divisor\n",
    "    while(diff > num):\n",
    "        num += a\n",
    "        ctr += 1\n",
    "    print(res+ctr)\n",
    "    "
   ]
  },
  {
   "cell_type": "code",
   "execution_count": null,
   "metadata": {},
   "outputs": [],
   "source": []
  }
 ],
 "metadata": {
  "kernelspec": {
   "display_name": "Python 3",
   "language": "python",
   "name": "python3"
  },
  "language_info": {
   "codemirror_mode": {
    "name": "ipython",
    "version": 3
   },
   "file_extension": ".py",
   "mimetype": "text/x-python",
   "name": "python",
   "nbconvert_exporter": "python",
   "pygments_lexer": "ipython3",
   "version": "3.6.5"
  }
 },
 "nbformat": 4,
 "nbformat_minor": 2
}
