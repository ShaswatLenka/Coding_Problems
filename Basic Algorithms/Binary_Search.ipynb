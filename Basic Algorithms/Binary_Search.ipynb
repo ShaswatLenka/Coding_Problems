{
 "cells": [
  {
   "cell_type": "code",
   "execution_count": 30,
   "metadata": {},
   "outputs": [
    {
     "name": "stdout",
     "output_type": "stream",
     "text": [
      "-1\n"
     ]
    },
    {
     "data": {
      "text/plain": [
       "4"
      ]
     },
     "execution_count": 30,
     "metadata": {},
     "output_type": "execute_result"
    }
   ],
   "source": [
    "#Implementing Binary search\n",
    "import math\n",
    "def binarySearch(input_array, value):\n",
    "    input_array = sorted(input_array)\n",
    "    end = len(input_array) - 1\n",
    "    start = 0\n",
    "    mid = 1\n",
    "    while(end - start != 1):\n",
    "        mid = math.floor((end+start)/2)\n",
    "        if(value > input_array[mid]):\n",
    "            start = mid\n",
    "            continue\n",
    "        elif(value < input_array[mid]):\n",
    "            end = mid\n",
    "            continue\n",
    "        elif(value == input_array[mid]): \n",
    "            return mid\n",
    "    return -1\n",
    "\n",
    "test_list = [1,3,9,11,15,19,29]\n",
    "test_val1 = 25\n",
    "test_val2 = 15\n",
    "print(binarySearch(test_list,test_val1))\n",
    "binarySearch(test_list,test_val2)"
   ]
  },
  {
   "cell_type": "code",
   "execution_count": null,
   "metadata": {},
   "outputs": [],
   "source": []
  }
 ],
 "metadata": {
  "kernelspec": {
   "display_name": "Python 3",
   "language": "python",
   "name": "python3"
  }
 },
 "nbformat": 4,
 "nbformat_minor": 2
}
