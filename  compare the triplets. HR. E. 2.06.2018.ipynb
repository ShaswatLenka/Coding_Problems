{
 "cells": [
  {
   "cell_type": "markdown",
   "metadata": {},
   "source": [
    "# Compare the Triplets\n",
    "    Alice and Bob each created one problem for HackerRank. A reviewer rates the two challenges, awarding\n",
    "    points on a scale from 1 to 100 for three categories: problem clarity, originality, and difficulty.\n",
    "    We define the rating for Alice's challenge to be the triplet A = (A[0], A[1], A[2]) , and the rating for Bob's\n",
    "    challenge to be the triplet B = (b[0],b[1],b[2]) .\n",
    "    Your task is to find their comparison scores by comparing with , with , and with .\n",
    "    If , then Alice is awarded point.\n",
    "    If , then Bob is awarded point.\n",
    "    If , then neither person receives a point.\n",
    "    Comparison score is the total score a person earned.\n",
    "    Given and , can you compare the two challenges and print their respective comparison points?\n",
    "    Input Format\n",
    "    The first line contains space-separated integers, , , and , describing the respective values in\n",
    "    triplet .\n",
    "    The second line contains space-separated integers, , , and , describing the respective values in\n",
    "    triplet .\n",
    "    Constraints\n",
    "    Output Format\n",
    "    Print two space-separated integers denoting the respective comparison scores earned by Alice and Bob.\n",
    "    Sample Input\n",
    "    5 6 7\n",
    "    3 6 10\n",
    "    Sample Output\n",
    "    1 1\n",
    "    Explanation\n",
    "    In this example:\n",
    "    Now, let's compare each individual score:\n",
    "    , so Alice receives point.\n",
    "    , so nobody receives a point.\n",
    "    , so Bob receives point.\n",
    "    Alice's comparison score is , and Bob's comparison score is . Thus, we print 1 1 (Alice's comparison\n",
    "    score followed by Bob's comparison score) on a single line."
   ]
  },
  {
   "cell_type": "code",
   "execution_count": 4,
   "metadata": {},
   "outputs": [
    {
     "name": "stdout",
     "output_type": "stream",
     "text": [
      "1 2 4 3\n",
      "1 5 3 5 \n",
      "1 2\n"
     ]
    }
   ],
   "source": [
    "a = list(map(int, input().rstrip().split()))\n",
    "b = list(map(int, input().rstrip().split()))\n",
    "\n",
    "sco_a=sco_b=0\n",
    "\n",
    "for x in range(len(a)):\n",
    "    if a[x] > b[x] :\n",
    "        sco_a +=1\n",
    "    elif b[x] > a[x] :\n",
    "        sco_b +=1\n",
    "\n",
    "print(sco_a, sco_b)\n",
    "\n"
   ]
  },
  {
   "cell_type": "code",
   "execution_count": null,
   "metadata": {},
   "outputs": [],
   "source": []
  }
 ],
 "metadata": {
  "kernelspec": {
   "display_name": "Python 3",
   "language": "python",
   "name": "python3"
  },
  "language_info": {
   "codemirror_mode": {
    "name": "ipython",
    "version": 3
   },
   "file_extension": ".py",
   "mimetype": "text/x-python",
   "name": "python",
   "nbconvert_exporter": "python",
   "pygments_lexer": "ipython3",
   "version": "3.6.4"
  }
 },
 "nbformat": 4,
 "nbformat_minor": 2
}
