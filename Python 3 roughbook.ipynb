{
 "cells": [
  {
   "cell_type": "markdown",
   "metadata": {},
   "source": [
    "Students of Delhi Public School love sweets. They prefer eating sweets all the time. To make sure they remain happy their Maths teacher Pramesh decided to get sweets for them. But since they are students of Delhi Public School they are not so easily pleased.\n",
    "\n",
    "A student would become happy if there at least X sweets in the class and not more than Y sweets because they know too much of sweets could lead to diabetes. The teacher wants to buy the minimum number of candies so that maximum number of students are happy in his class. Help him in finding out these values.\n",
    "\n",
    "Input:\n",
    "\n",
    "The first line contains N indicating the number of students in the class. This is followed up by N lines where every line contains two integers X and Y respectively.\n",
    "\n",
    "Output:\n",
    "\n",
    "Output two space-separated integers that denote the minimum number of candies and the maximum number of happy students.\n",
    "\n",
    "Constraints:\n",
    "\n",
    "1  N  105\n",
    "\n",
    "1  X  Y  109"
   ]
  },
  {
   "cell_type": "code",
   "execution_count": 9,
   "metadata": {},
   "outputs": [
    {
     "name": "stdout",
     "output_type": "stream",
     "text": [
      "3\n",
      "3 7\n",
      "1 9 \n",
      "4 6\n",
      "[[4, 3], [3, 1], [1, 1]]\n",
      "4   3\n"
     ]
    }
   ],
   "source": [
    "#Program for \"sweets all around\"\n",
    "def Sort(x):\n",
    "    for x in range(A):\n",
    "        for y in range(A):\n",
    "            if(storage[x][1] >= storage[y][1]):\n",
    "                temp = storage[x]\n",
    "                storage[x] = storage[y]\n",
    "                storage[y] = temp\n",
    "    \n",
    "A = int(input())\n",
    "max_happy = A\n",
    "storage = []\n",
    "for x in range(A):\n",
    "    C = list(map(int, input().split()))\n",
    "    storage.append(C)\n",
    "for x in range(A):\n",
    "    for y in range (A):\n",
    "        if(storage[x][0] < storage[y][1]):\n",
    "            max_happy -= 1\n",
    "        elif (storage[x][0] < storage[y][0]):\n",
    "            max_happy -= 1\n",
    "    storage[x][1] = max_happy + 1 #plus one for the same student being happy\n",
    "    max_happy = A\n",
    "temp = 0\n",
    "Sort(storage)  \n",
    "print(storage[0][0], storage[0][1])\n",
    "\n",
    "                \n",
    "\n",
    "\n",
    "    "
   ]
  },
  {
   "cell_type": "code",
   "execution_count": 5,
   "metadata": {},
   "outputs": [
    {
     "name": "stdout",
     "output_type": "stream",
     "text": [
      "5\n",
      "3 6\n",
      "1 -1\n",
      "1 6\n",
      "1 -2\n",
      "7 11\n",
      "-1 -1\n",
      "2 15\n",
      "1 -1\n",
      "5 8\n",
      "1 -1\n",
      "{3: 1, 7: -1, 1: 1, 12: -1, 2: 1, 16: -1, 5: 1, 9: -1}\n",
      "5 4\n"
     ]
    }
   ],
   "source": [
    "n = int(input().strip())\n",
    "d = dict()\n",
    "for _ in range(n):\n",
    "    x,y = map(lambda x: int(x.strip()), input().strip().split())\n",
    "    d[x] = d.get(x,0) + 1\n",
    "    d[y+1] = d.get(y+1,0) - 1\n",
    "    print(d[x], d[y+1])\n",
    "y=0\n",
    "print (d)\n",
    "for x in sorted(d):\n",
    "    d[x] = d[x]+y\n",
    "    y = d[x]\n",
    "d = sorted(d.items())\n",
    "d = max(d,key = lambda x: x[1])\n",
    "print(d[0],d[1])\n",
    "\n",
    "    "
   ]
  },
  {
   "cell_type": "code",
   "execution_count": 7,
   "metadata": {},
   "outputs": [
    {
     "data": {
      "text/plain": [
       "1"
      ]
     },
     "execution_count": 7,
     "metadata": {},
     "output_type": "execute_result"
    }
   ],
   "source": [
    "d = {3:1, 7:-1, 1:1, 12:-1, 2:1, 16:-1, 5:1, 9:-1}\n",
    "d[2]"
   ]
  },
  {
   "cell_type": "code",
   "execution_count": 6,
   "metadata": {},
   "outputs": [
    {
     "name": "stdout",
     "output_type": "stream",
     "text": [
      "[1, 2, 5, 7, 8]\n"
     ]
    }
   ],
   "source": [
    "d = {1:1, 5:3, 7:-3, 8:10, 2:20}\n",
    "print (sorted(d))"
   ]
  },
  {
   "cell_type": "code",
   "execution_count": null,
   "metadata": {},
   "outputs": [],
   "source": []
  }
 ],
 "metadata": {
  "kernelspec": {
   "display_name": "Python 3",
   "language": "python",
   "name": "python3"
  },
  "language_info": {
   "codemirror_mode": {
    "name": "ipython",
    "version": 3
   },
   "file_extension": ".py",
   "mimetype": "text/x-python",
   "name": "python",
   "nbconvert_exporter": "python",
   "pygments_lexer": "ipython3",
   "version": "3.6.4"
  }
 },
 "nbformat": 4,
 "nbformat_minor": 2
}
