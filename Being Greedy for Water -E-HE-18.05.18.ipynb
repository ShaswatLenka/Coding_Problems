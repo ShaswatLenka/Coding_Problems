{
 "cells": [
  {
   "cell_type": "markdown",
   "metadata": {},
   "source": [
    "# Being Greedy of Water\n",
    "### Greedy algorithms\n",
    "You are given container full of water. Container can have limited amount of water. You also have N bottles to fill. You need to find the maximum numbers of bottles you can fill.\n",
    "\n",
    "Input:\n",
    "First line contains one integer, T, number of test cases.\n",
    "First line of each test case contains two integer, N and X, number of bottles and capacity of the container.\n",
    "Second line of each test case contains N space separated integers, capacities of bottles.\n",
    "\n",
    "Output:\n",
    "For each test case print the maximum number of bottles you can fill.\n",
    "\n",
    " SAMPLE INPUT \n",
    " \n",
    "    1\n",
    "    \n",
    "    5 10\n",
    "    \n",
    "    8 5 4 3 2\n",
    "    \n",
    "  SAMPLE OUTPUT \n",
    "  \n",
    "    3"
   ]
  },
  {
   "cell_type": "code",
   "execution_count": 15,
   "metadata": {},
   "outputs": [
    {
     "name": "stdout",
     "output_type": "stream",
     "text": [
      "3\n",
      "5 10\n",
      "18 5 4 3 2\n",
      "3 3\n",
      "1 2 3\n",
      "4 5\n",
      "1 2 3 4 5\n",
      "3\n",
      "2\n",
      "2\n"
     ]
    }
   ],
   "source": [
    "def maxNumber(x,d):\n",
    "    sum = 0\n",
    "    ctr = 0\n",
    "    while(sum<=nc[1]):\n",
    "        sum+=d[ctr]\n",
    "        ctr+=1\n",
    "    return ctr\n",
    "resArray = []\n",
    "t = int(input()) #number of test cases\n",
    "\n",
    "for x in range(t):\n",
    "    nc = list(map(int, input().strip().split())) #number of bottles and capacity of the botles\n",
    "    c = list(map(int, input().strip().split()))# maximum capacity of each bottle\n",
    "    d = sorted(c)\n",
    "    resArray.append(maxNumber(nc[1],d))\n",
    "for x in range(t):\n",
    "    print(resArray[x]-1)"
   ]
  },
  {
   "cell_type": "code",
   "execution_count": null,
   "metadata": {},
   "outputs": [],
   "source": []
  }
 ],
 "metadata": {
  "kernelspec": {
   "display_name": "Python 3",
   "language": "python",
   "name": "python3"
  },
  "language_info": {
   "codemirror_mode": {
    "name": "ipython",
    "version": 3
   },
   "file_extension": ".py",
   "mimetype": "text/x-python",
   "name": "python",
   "nbconvert_exporter": "python",
   "pygments_lexer": "ipython3",
   "version": "3.6.4"
  }
 },
 "nbformat": 4,
 "nbformat_minor": 2
}
