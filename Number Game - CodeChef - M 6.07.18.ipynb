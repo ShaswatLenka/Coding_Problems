{
 "cells": [
  {
   "cell_type": "markdown",
   "metadata": {},
   "source": [
    "You are playing a game with a robot. The game starts with two integers: A and M. The robot makes exactly one move in the entire game, and it does so at the very beginning - it will remove exactly 1 digit from A and output it as the starting value (say X). Note that the value A remains intact. It is not changed by the robot. After the robot makes its moves, it is your turn. You can make an unlimited number of moves. In each move, you must remove exactly 1 digit from A and append it to X (to the right side of X). Again note that none of your moves change the value of A. You win if you can eventually make X a multiple of M (i.e. X mod M = 0). How many possible starting moves bot can make such that you are guaranteed to win assuming you play optimally?\n",
    "\n",
    "Here is an example of a game: Suppose the numbers are A = 1003, M = 4. The robot can make four possible starting moves: 003 by removing 1st digit, 103 by removing 2nd or 3rd digit (both count as a separate possibilities even though the starting X will be same) or 100 by removing the 4th digit. Let us say the robot chooses 003 as the starting move. Then you can win by appending 100 (by removing the 4th digit) making X = 003100 which is divisible by 4.\n",
    "\n",
    "Input\n",
    "The first line of the input contains an integer T denoting the number of test cases. The description of T test cases follows\n",
    "The only line of each test case contains 2 integers A and M.\n",
    "Output\n",
    "For each test case, output a single line containing the number of possible first moves that the robot can make such that you can force a win.\n",
    "Constraints\n",
    "1 ≤ T ≤ 100\n",
    "10 ≤ A < 10106 (i.e. The number of digits in A can be upto 106)\n",
    "1 ≤ M ≤ 1000\n",
    "The sum of number of digits of A over all test cases will not exceed 5 * 10^6\n",
    "Example\n",
    "Input:\n",
    "5\n",
    "1003 4\n",
    "11 4\n",
    "2004 3\n",
    "123 1\n",
    "100000 27\n",
    "\n",
    "Output:\n",
    "4\n",
    "0\n",
    "4\n",
    "3\n",
    "6\n",
    "\n",
    "https://www.codechef.com/problems/NUMBGAME"
   ]
  },
  {
   "cell_type": "code",
   "execution_count": null,
   "metadata": {},
   "outputs": [],
   "source": []
  }
 ],
 "metadata": {
  "kernelspec": {
   "display_name": "Python 3",
   "language": "python",
   "name": "python3"
  },
  "language_info": {
   "codemirror_mode": {
    "name": "ipython",
    "version": 3
   },
   "file_extension": ".py",
   "mimetype": "text/x-python",
   "name": "python",
   "nbconvert_exporter": "python",
   "pygments_lexer": "ipython3",
   "version": "3.6.4"
  }
 },
 "nbformat": 4,
 "nbformat_minor": 2
}
