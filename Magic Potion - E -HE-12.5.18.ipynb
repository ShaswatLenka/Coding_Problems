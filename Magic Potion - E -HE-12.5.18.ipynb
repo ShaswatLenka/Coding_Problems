{
 "cells": [
  {
   "cell_type": "markdown",
   "metadata": {},
   "source": [
    "# Magic Potion Problem\n",
    "### ( Based on window sliding technique )\n",
    "Shruti loves to play with Array. She would always be busy doing some random operation with her array. Today she got to know about Magic Potion. A Magic Potion is a special power that allows you to remove one element from your array either from the start or the end. After spending some time on Magic Potion she decided to use it on her arrays.\n",
    "\n",
    "Shruti has an array of size N. She calls an array a Good array if the sum of the array is exactly K. She wants to apply Magic Potion on her array so that she could get a Good array. She wants to find the count of all the Good arrays that could be formed from the given initial array by applying Magic Potion on them any number of times. She is also interested in finding out the minimum Magic Potion required to form a single Good array. Since she is already quite busy she asks you for help.\n",
    "\n",
    "Input:\n",
    "\n",
    "The first line contains 2 integers N and K denoting the size of the array and the sum value required for an array to be Good.This is followed by N-space separated integers that denote the array.\n",
    "\n",
    "Output:\n",
    "\n",
    "Print two space-separated integers where the first integers denote the count of all possible Good arrays while the second integers indicate minimum Magic Potion required for a Good array.\n",
    "\n",
    "Constraints:\n",
    "\n",
    "1  N  105\n",
    "\n",
    "1  K  1012\n",
    "\n",
    "0  Ai  109\n",
    "\n",
    "Note:\n",
    "\n",
    "A Good Array will always exist.\n",
    "\n",
    " ###### SAMPLE INPUT \n",
    "    3 3\n",
    "    1 2 3\n",
    "\n",
    "###### SAMPLE OUTPUT \n",
    "    2 1\n",
    "Explanation\n",
    "The two possible Good arrays are: {1, 2} and {3}. Magic Potion required to form {1, 2} is 1 while required to form {3} is 2.\n",
    "\n",
    "So the final answer is 2 and 1.\n"
   ]
  },
  {
   "cell_type": "code",
   "execution_count": 37,
   "metadata": {},
   "outputs": [
    {
     "name": "stdout",
     "output_type": "stream",
     "text": [
      "5 3\n",
      "1 2 0 0 0\n",
      "4 0\n"
     ]
    }
   ],
   "source": [
    "#Brute force solution \n",
    "#input\n",
    "ip = list(map(int, input().split()))\n",
    "arr = list(map(int, input().split()))\n",
    "\n",
    "k = ip[1]\n",
    "temp = 0\n",
    "\n",
    "c1 = 0 #counter for max no of good arrays\n",
    "c2 = [] #counter for the number of magic potion applied\n",
    "#find the sum\n",
    "sum = 0\n",
    "for x in range(len(arr)):\n",
    "    sum = sum+arr[x]\n",
    "#find the difference\n",
    "diff = sum - k\n",
    "\n",
    "sum1 = 0\n",
    "sum2 = 0\n",
    "x = 0\n",
    "y = 0\n",
    "n = 0 \n",
    "\n",
    "while(sum1<=diff):\n",
    "    sum1 = sum1 + arr[x]\n",
    "    n = x+1\n",
    "    while(sum2<diff):\n",
    "        sum2 = sum2 + arr[-(y+1)]\n",
    "        n +=1\n",
    "        if(sum1+sum2 == diff):\n",
    "            c1+=1\n",
    "            break\n",
    "        y += 1\n",
    "    x+=1\n",
    "    y=0\n",
    "    sum2=0\n",
    "    c2.append(n)\n",
    "    if(sum1 == diff):\n",
    "        c1+=1\n",
    "        n-=1\n",
    "sum2 = 0\n",
    "x=0\n",
    "n=0\n",
    "while(sum2<=diff):\n",
    "    sum2 += arr[x-1]\n",
    "    n+=1\n",
    "    if(sum2 == diff ):\n",
    "        c1+=1\n",
    "        n-=1\n",
    "    x -= 1\n",
    "c2.append(n)\n",
    "\n",
    "if diff == 0:\n",
    "    c1+=1\n",
    "    c2.append(0)\n",
    "if diff < 0:\n",
    "    c1 = 0\n",
    "    c2.append[0]\n",
    "c2.sort()\n",
    "print(c1,c2[0])\n"
   ]
  },
  {
   "cell_type": "code",
   "execution_count": 42,
   "metadata": {},
   "outputs": [
    {
     "name": "stdout",
     "output_type": "stream",
     "text": [
      "6 6 \n",
      "1 2 3 3 2 1\n",
      "3 3\n"
     ]
    }
   ],
   "source": [
    "#best solution using window sliding technique\n",
    "n, k = map(int, input().strip().split())\n",
    "arr = list(map(int, input().strip().split()))\n",
    "goodArr = 0\n",
    "potions = 1000000\n",
    "i = j = 0\n",
    "sm = arr[0]\n",
    "zc = [0] * (n+1)\n",
    "xx = n-1\n",
    "while xx >= 0:\n",
    "    if arr[xx] == 0:\n",
    "        zc[xx] = zc[xx+1] + 1\n",
    "    xx -= 1\n",
    "# print(zc)\n",
    " \n",
    "while j < n:\n",
    "    if sm == k:\n",
    "        goodArr += (zc[i]+1)\n",
    "        potions = min(potions, i + n - j - 1)\n",
    "        \n",
    "    if sm <= k:\n",
    "        j += 1\n",
    "        if j < n:\n",
    "            sm += arr[j]\n",
    "    else:\n",
    "        sm -= arr[i]\n",
    "        i += 1\n",
    "print(goodArr, potions)"
   ]
  },
  {
   "cell_type": "code",
   "execution_count": null,
   "metadata": {},
   "outputs": [],
   "source": []
  }
 ],
 "metadata": {
  "kernelspec": {
   "display_name": "Python 3",
   "language": "python",
   "name": "python3"
  },
  "language_info": {
   "codemirror_mode": {
    "name": "ipython",
    "version": 3
   },
   "file_extension": ".py",
   "mimetype": "text/x-python",
   "name": "python",
   "nbconvert_exporter": "python",
   "pygments_lexer": "ipython3",
   "version": "3.6.4"
  }
 },
 "nbformat": 4,
 "nbformat_minor": 2
}
